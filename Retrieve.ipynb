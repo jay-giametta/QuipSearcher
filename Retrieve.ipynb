{
 "cells": [
  {
   "cell_type": "code",
   "execution_count": 2,
   "id": "0c8e0228-6b17-4dd3-b564-74ca847064ea",
   "metadata": {
    "tags": []
   },
   "outputs": [
    {
     "name": "stdout",
     "output_type": "stream",
     "text": [
      "Requirement already satisfied: pip in /opt/conda/lib/python3.10/site-packages (23.3.1)\n",
      "\u001b[33mWARNING: Running pip as the 'root' user can result in broken permissions and conflicting behaviour with the system package manager. It is recommended to use a virtual environment instead: https://pip.pypa.io/warnings/venv\u001b[0m\u001b[33m\n",
      "\u001b[0mRequirement already satisfied: psycopg2 in /opt/conda/lib/python3.10/site-packages (2.9.9)\n",
      "\u001b[33mWARNING: Running pip as the 'root' user can result in broken permissions and conflicting behaviour with the system package manager. It is recommended to use a virtual environment instead: https://pip.pypa.io/warnings/venv\u001b[0m\u001b[33m\n",
      "\u001b[0mRequirement already satisfied: pgvector in /opt/conda/lib/python3.10/site-packages (0.2.3)\n",
      "Requirement already satisfied: numpy in /opt/conda/lib/python3.10/site-packages (from pgvector) (1.26.0)\n",
      "\u001b[33mWARNING: Running pip as the 'root' user can result in broken permissions and conflicting behaviour with the system package manager. It is recommended to use a virtual environment instead: https://pip.pypa.io/warnings/venv\u001b[0m\u001b[33m\n",
      "\u001b[0m"
     ]
    }
   ],
   "source": [
    "#install necessary packages\n",
    "!pip install --upgrade pip\n",
    "!pip install psycopg2 \n",
    "!pip install pgvector "
   ]
  },
  {
   "cell_type": "code",
   "execution_count": 3,
   "id": "49627fcb-81cc-450d-8e5f-126f44f6c48d",
   "metadata": {
    "tags": []
   },
   "outputs": [],
   "source": [
    "#import packages\n",
    "import boto3\n",
    "import json\n",
    "import psycopg2"
   ]
  },
  {
   "cell_type": "code",
   "execution_count": 4,
   "id": "58b10297-d09d-4262-b7cb-a041bd3ed43a",
   "metadata": {
    "tags": []
   },
   "outputs": [],
   "source": [
    "#setup AWS services\n",
    "secretsManager = boto3.client(\n",
    "    service_name = 'secretsmanager',\n",
    "    region_name = 'us-east-1'\n",
    ")\n",
    "\n",
    "bedrock_runtime = boto3.client(\n",
    "    service_name = 'bedrock-runtime', \n",
    "    region_name = 'us-east-1'\n",
    ")"
   ]
  },
  {
   "cell_type": "code",
   "execution_count": 5,
   "id": "a130a56c-68ea-4709-962d-260280475beb",
   "metadata": {
    "tags": []
   },
   "outputs": [],
   "source": [
    "#get Quip token\n",
    "secretId = 'quip'\n",
    "secretsManagerResponse = secretsManager.get_secret_value(SecretId = secretId)['SecretString']\n",
    "secretsManagerSecret = json.loads(secretsManagerResponse)"
   ]
  },
  {
   "cell_type": "code",
   "execution_count": 6,
   "id": "3891c135-4750-4951-80a3-d79b70807c72",
   "metadata": {
    "tags": []
   },
   "outputs": [],
   "source": [
    "#set root folder for search\n",
    "rootFolderId = 'QofAOVRrPwzJ'"
   ]
  },
  {
   "cell_type": "code",
   "execution_count": 7,
   "id": "a60eae39-d446-4ba3-a2e6-bdd909b9a17e",
   "metadata": {
    "tags": []
   },
   "outputs": [],
   "source": [
    "#get database info from Secrets Manager\n",
    "dbSecretId = 'quipsearcher'\n",
    "dbSecretsManagerResponse = secretsManager.get_secret_value(SecretId = dbSecretId)['SecretString']\n",
    "dbSecretsManagerSecret = json.loads(dbSecretsManagerResponse)"
   ]
  },
  {
   "cell_type": "code",
   "execution_count": 8,
   "id": "dd168723-1a60-4c37-ba73-4f2865698c0c",
   "metadata": {
    "tags": []
   },
   "outputs": [],
   "source": [
    "#connect to database\n",
    "dbClient = psycopg2.connect(\n",
    "    host = dbSecretsManagerSecret.get('host'),\n",
    "    port = dbSecretsManagerSecret.get('port'),\n",
    "    database = dbSecretsManagerSecret.get('database'),\n",
    "    user = dbSecretsManagerSecret.get('username'),\n",
    "    password = dbSecretsManagerSecret.get('password')\n",
    ")\n",
    "dbClient.set_session(autocommit = True)\n",
    "dbCursor = dbClient.cursor()"
   ]
  },
  {
   "cell_type": "code",
   "execution_count": 9,
   "id": "5768c734-a673-4a8a-9fdf-d5da1a70effb",
   "metadata": {
    "tags": []
   },
   "outputs": [],
   "source": [
    "#read in a phrase to search for and create an embedding for it\n",
    "searchPhrase = \"Is there a secret in the QuipSearcher test doc?\"\n",
    "searchJson = json.dumps({\n",
    "    \"inputText\": searchPhrase,\n",
    "})\n",
    "\n",
    "searchPhraseExcaped = \"\\\"\" + searchPhrase.replace(\"'\",\"\").replace(\" \", \"\\\" or \\\"\") + \"\\\"\" #tokenize search phrase to help PostgreSQL text search\n",
    "\n",
    "searchEmbeddingResponse = bedrock_runtime.invoke_model(\n",
    "    body = searchJson, \n",
    "    modelId = 'amazon.titan-embed-text-v1', \n",
    "    accept = 'application/json', \n",
    "    contentType = 'application/json'\n",
    ")\n",
    "\n",
    "searchEmbeddingResponseBody = json.loads(searchEmbeddingResponse['body'].read())\n",
    "searchEmbedding = searchEmbeddingResponseBody.get('embedding')"
   ]
  },
  {
   "cell_type": "code",
   "execution_count": 10,
   "id": "4546d93e-f02f-40f9-b277-3e05d16ba0a6",
   "metadata": {},
   "outputs": [],
   "source": [
    "#get the top results from the database\n",
    "dbCursor.execute(f\"\"\"SELECT *\n",
    "    FROM t_{rootFolderId}, websearch_to_tsquery('simple', '{searchPhraseExcaped}') query\n",
    "    WHERE to_tsvector('simple', text) @@ query\n",
    "    ORDER BY embeddings <-> '{searchEmbedding}' LIMIT 50;\"\"\")\n",
    "dbResultsRaw = dbCursor.fetchall()"
   ]
  },
  {
   "cell_type": "code",
   "execution_count": 11,
   "id": "cd234495-2c4c-42a7-8d85-fe28c28556c7",
   "metadata": {
    "tags": []
   },
   "outputs": [],
   "source": [
    "#close the database connection\n",
    "dbCursor.close()\n",
    "dbClient.close()"
   ]
  },
  {
   "cell_type": "code",
   "execution_count": 12,
   "id": "6d02f9f3-096b-4485-b917-bcde146f37d8",
   "metadata": {
    "tags": []
   },
   "outputs": [],
   "source": [
    "#get the top sections until we reach our length limit\n",
    "results = []\n",
    "resultLengthLimit = 12000;\n",
    "\n",
    "for dbResultRaw in dbResultsRaw:\n",
    "    if resultLengthLimit > dbResultRaw[2]:\n",
    "        \n",
    "        result = {\n",
    "            \"title\": dbResultRaw[3],\n",
    "            \"link\": dbResultRaw[4],\n",
    "            \"text\": dbResultRaw[5]\n",
    "        }\n",
    "        \n",
    "        results.append(result)\n",
    "\n",
    "        resultLengthLimit -= dbResultRaw[2]"
   ]
  },
  {
   "cell_type": "code",
   "execution_count": 13,
   "id": "d5fa3723-16b2-4236-8fc1-d6ff50fcf351",
   "metadata": {
    "tags": []
   },
   "outputs": [],
   "source": [
    "#create a prompt\n",
    "notesXML = \"\"\n",
    "\n",
    "for result in results: \n",
    "    \n",
    "    noteXML = f\"\"\"\n",
    "        <note>\n",
    "            <title>{result.get('title')}</thread>\n",
    "            <link>{result.get('link')}</link>\n",
    "            <text>{result.get('text')}</text>\n",
    "        </note>\n",
    "    \"\"\"\n",
    "    notesXML += noteXML\n",
    "\n",
    "instructionsXML = f\"\"\"\n",
    "    <instruction>Use the notes to provide details on the topic.</instruction>\n",
    "    <instruction>Create a summary section that summarizes the topic based on the notes. Stay focused solely on the topic!</instruction>\n",
    "    <instruction>Create a links sections that includes the most relevant notes.</instruction>\n",
    "    <instruction>Double check to make sure there is are not any links that share the same address in the output.</instruction>\n",
    "    <instruction>Use basic text formatting. Do not use a markup language or markdown formatting.</instruction>\n",
    "    <instruction>Take your time and be specific where possible. A meaningful answer is more important than a fast one.</instruction>\n",
    "    <instruction>If you can't find details in the notes tell me. Do not try to find the information elsewhere.</instruction>\n",
    "\"\"\"\n",
    "    \n",
    "prompt = f\"\"\"Human:\n",
    "    <instructions>{instructionsXML}</instructions>\n",
    "    <notes>{notesXML}</notes>\n",
    "    <topic>{searchPhrase}</topic>\n",
    "\n",
    "Assistant:\"\"\""
   ]
  },
  {
   "cell_type": "code",
   "execution_count": 14,
   "id": "8585145f-fbb3-4f5c-a0e2-411a2b210d6d",
   "metadata": {},
   "outputs": [],
   "source": [
    "#create bedrock input JSON\n",
    "bedrockInputJSON = json.dumps({\n",
    "    \"prompt\": prompt, \n",
    "    \"max_tokens_to_sample\":4000,\n",
    "    \"temperature\":0,\n",
    "    \"top_k\":250,\n",
    "    \"top_p\":1,\n",
    "    \"stop_sequences\":[]\n",
    "})"
   ]
  },
  {
   "cell_type": "code",
   "execution_count": 15,
   "id": "8bf87b32-ae36-4c59-9b4b-09d3bb5962e5",
   "metadata": {},
   "outputs": [],
   "source": [
    "#get results from bedrock\n",
    "bedrockClaudeResponse = bedrock_runtime.invoke_model(\n",
    "    body = bedrockInputJSON, \n",
    "    modelId = 'anthropic.claude-v2', \n",
    "    accept = 'application/json', \n",
    "    contentType = 'application/json'\n",
    ")\n",
    "\n",
    "bedrockClaudeResponseBody = json.loads(bedrockClaudeResponse['body'].read())"
   ]
  },
  {
   "cell_type": "code",
   "execution_count": 16,
   "id": "0de00c2c-ef6d-40cb-92bc-38057fb5e1c2",
   "metadata": {
    "tags": []
   },
   "outputs": [
    {
     "name": "stdout",
     "output_type": "stream",
     "text": [
      " Here is a summary and relevant links on the topic \"Is there a secret in the QuipSearcher test doc?\":\n",
      "\n",
      "Summary:\n",
      "The QuipSearcher Test Doc note indicates there is a secret in the document. Specifically, the text says \"The secret is Bedrock!\" This confirms there is a secret contained in the QuipSearcher Test Doc.\n",
      "\n",
      "Links:\n",
      "- QuipSearcher Test Doc: https://quip-masked.com/MUSKAXEmzS7G (masked manually for GitHub)\n",
      "\n",
      "The QuipSearcher Test Doc note is the only one that seems relevant to this topic, as it is the only note that references QuipSearcher or contains any indication of a secret. The other notes appear unrelated to the topic. Please let me know if I should clarify or expand my response in any way!\n"
     ]
    }
   ],
   "source": [
    "print(bedrockClaudeResponseBody.get('completion'))"
   ]
  },
  {
   "cell_type": "code",
   "execution_count": null,
   "id": "53724365-d161-48c2-b100-b1ffe8c2d57e",
   "metadata": {},
   "outputs": [],
   "source": []
  }
 ],
 "metadata": {
  "availableInstances": [
   {
    "_defaultOrder": 0,
    "_isFastLaunch": true,
    "category": "General purpose",
    "gpuNum": 0,
    "hideHardwareSpecs": false,
    "memoryGiB": 4,
    "name": "ml.t3.medium",
    "vcpuNum": 2
   },
   {
    "_defaultOrder": 1,
    "_isFastLaunch": false,
    "category": "General purpose",
    "gpuNum": 0,
    "hideHardwareSpecs": false,
    "memoryGiB": 8,
    "name": "ml.t3.large",
    "vcpuNum": 2
   },
   {
    "_defaultOrder": 2,
    "_isFastLaunch": false,
    "category": "General purpose",
    "gpuNum": 0,
    "hideHardwareSpecs": false,
    "memoryGiB": 16,
    "name": "ml.t3.xlarge",
    "vcpuNum": 4
   },
   {
    "_defaultOrder": 3,
    "_isFastLaunch": false,
    "category": "General purpose",
    "gpuNum": 0,
    "hideHardwareSpecs": false,
    "memoryGiB": 32,
    "name": "ml.t3.2xlarge",
    "vcpuNum": 8
   },
   {
    "_defaultOrder": 4,
    "_isFastLaunch": true,
    "category": "General purpose",
    "gpuNum": 0,
    "hideHardwareSpecs": false,
    "memoryGiB": 8,
    "name": "ml.m5.large",
    "vcpuNum": 2
   },
   {
    "_defaultOrder": 5,
    "_isFastLaunch": false,
    "category": "General purpose",
    "gpuNum": 0,
    "hideHardwareSpecs": false,
    "memoryGiB": 16,
    "name": "ml.m5.xlarge",
    "vcpuNum": 4
   },
   {
    "_defaultOrder": 6,
    "_isFastLaunch": false,
    "category": "General purpose",
    "gpuNum": 0,
    "hideHardwareSpecs": false,
    "memoryGiB": 32,
    "name": "ml.m5.2xlarge",
    "vcpuNum": 8
   },
   {
    "_defaultOrder": 7,
    "_isFastLaunch": false,
    "category": "General purpose",
    "gpuNum": 0,
    "hideHardwareSpecs": false,
    "memoryGiB": 64,
    "name": "ml.m5.4xlarge",
    "vcpuNum": 16
   },
   {
    "_defaultOrder": 8,
    "_isFastLaunch": false,
    "category": "General purpose",
    "gpuNum": 0,
    "hideHardwareSpecs": false,
    "memoryGiB": 128,
    "name": "ml.m5.8xlarge",
    "vcpuNum": 32
   },
   {
    "_defaultOrder": 9,
    "_isFastLaunch": false,
    "category": "General purpose",
    "gpuNum": 0,
    "hideHardwareSpecs": false,
    "memoryGiB": 192,
    "name": "ml.m5.12xlarge",
    "vcpuNum": 48
   },
   {
    "_defaultOrder": 10,
    "_isFastLaunch": false,
    "category": "General purpose",
    "gpuNum": 0,
    "hideHardwareSpecs": false,
    "memoryGiB": 256,
    "name": "ml.m5.16xlarge",
    "vcpuNum": 64
   },
   {
    "_defaultOrder": 11,
    "_isFastLaunch": false,
    "category": "General purpose",
    "gpuNum": 0,
    "hideHardwareSpecs": false,
    "memoryGiB": 384,
    "name": "ml.m5.24xlarge",
    "vcpuNum": 96
   },
   {
    "_defaultOrder": 12,
    "_isFastLaunch": false,
    "category": "General purpose",
    "gpuNum": 0,
    "hideHardwareSpecs": false,
    "memoryGiB": 8,
    "name": "ml.m5d.large",
    "vcpuNum": 2
   },
   {
    "_defaultOrder": 13,
    "_isFastLaunch": false,
    "category": "General purpose",
    "gpuNum": 0,
    "hideHardwareSpecs": false,
    "memoryGiB": 16,
    "name": "ml.m5d.xlarge",
    "vcpuNum": 4
   },
   {
    "_defaultOrder": 14,
    "_isFastLaunch": false,
    "category": "General purpose",
    "gpuNum": 0,
    "hideHardwareSpecs": false,
    "memoryGiB": 32,
    "name": "ml.m5d.2xlarge",
    "vcpuNum": 8
   },
   {
    "_defaultOrder": 15,
    "_isFastLaunch": false,
    "category": "General purpose",
    "gpuNum": 0,
    "hideHardwareSpecs": false,
    "memoryGiB": 64,
    "name": "ml.m5d.4xlarge",
    "vcpuNum": 16
   },
   {
    "_defaultOrder": 16,
    "_isFastLaunch": false,
    "category": "General purpose",
    "gpuNum": 0,
    "hideHardwareSpecs": false,
    "memoryGiB": 128,
    "name": "ml.m5d.8xlarge",
    "vcpuNum": 32
   },
   {
    "_defaultOrder": 17,
    "_isFastLaunch": false,
    "category": "General purpose",
    "gpuNum": 0,
    "hideHardwareSpecs": false,
    "memoryGiB": 192,
    "name": "ml.m5d.12xlarge",
    "vcpuNum": 48
   },
   {
    "_defaultOrder": 18,
    "_isFastLaunch": false,
    "category": "General purpose",
    "gpuNum": 0,
    "hideHardwareSpecs": false,
    "memoryGiB": 256,
    "name": "ml.m5d.16xlarge",
    "vcpuNum": 64
   },
   {
    "_defaultOrder": 19,
    "_isFastLaunch": false,
    "category": "General purpose",
    "gpuNum": 0,
    "hideHardwareSpecs": false,
    "memoryGiB": 384,
    "name": "ml.m5d.24xlarge",
    "vcpuNum": 96
   },
   {
    "_defaultOrder": 20,
    "_isFastLaunch": false,
    "category": "General purpose",
    "gpuNum": 0,
    "hideHardwareSpecs": true,
    "memoryGiB": 0,
    "name": "ml.geospatial.interactive",
    "supportedImageNames": [
     "sagemaker-geospatial-v1-0"
    ],
    "vcpuNum": 0
   },
   {
    "_defaultOrder": 21,
    "_isFastLaunch": true,
    "category": "Compute optimized",
    "gpuNum": 0,
    "hideHardwareSpecs": false,
    "memoryGiB": 4,
    "name": "ml.c5.large",
    "vcpuNum": 2
   },
   {
    "_defaultOrder": 22,
    "_isFastLaunch": false,
    "category": "Compute optimized",
    "gpuNum": 0,
    "hideHardwareSpecs": false,
    "memoryGiB": 8,
    "name": "ml.c5.xlarge",
    "vcpuNum": 4
   },
   {
    "_defaultOrder": 23,
    "_isFastLaunch": false,
    "category": "Compute optimized",
    "gpuNum": 0,
    "hideHardwareSpecs": false,
    "memoryGiB": 16,
    "name": "ml.c5.2xlarge",
    "vcpuNum": 8
   },
   {
    "_defaultOrder": 24,
    "_isFastLaunch": false,
    "category": "Compute optimized",
    "gpuNum": 0,
    "hideHardwareSpecs": false,
    "memoryGiB": 32,
    "name": "ml.c5.4xlarge",
    "vcpuNum": 16
   },
   {
    "_defaultOrder": 25,
    "_isFastLaunch": false,
    "category": "Compute optimized",
    "gpuNum": 0,
    "hideHardwareSpecs": false,
    "memoryGiB": 72,
    "name": "ml.c5.9xlarge",
    "vcpuNum": 36
   },
   {
    "_defaultOrder": 26,
    "_isFastLaunch": false,
    "category": "Compute optimized",
    "gpuNum": 0,
    "hideHardwareSpecs": false,
    "memoryGiB": 96,
    "name": "ml.c5.12xlarge",
    "vcpuNum": 48
   },
   {
    "_defaultOrder": 27,
    "_isFastLaunch": false,
    "category": "Compute optimized",
    "gpuNum": 0,
    "hideHardwareSpecs": false,
    "memoryGiB": 144,
    "name": "ml.c5.18xlarge",
    "vcpuNum": 72
   },
   {
    "_defaultOrder": 28,
    "_isFastLaunch": false,
    "category": "Compute optimized",
    "gpuNum": 0,
    "hideHardwareSpecs": false,
    "memoryGiB": 192,
    "name": "ml.c5.24xlarge",
    "vcpuNum": 96
   },
   {
    "_defaultOrder": 29,
    "_isFastLaunch": true,
    "category": "Accelerated computing",
    "gpuNum": 1,
    "hideHardwareSpecs": false,
    "memoryGiB": 16,
    "name": "ml.g4dn.xlarge",
    "vcpuNum": 4
   },
   {
    "_defaultOrder": 30,
    "_isFastLaunch": false,
    "category": "Accelerated computing",
    "gpuNum": 1,
    "hideHardwareSpecs": false,
    "memoryGiB": 32,
    "name": "ml.g4dn.2xlarge",
    "vcpuNum": 8
   },
   {
    "_defaultOrder": 31,
    "_isFastLaunch": false,
    "category": "Accelerated computing",
    "gpuNum": 1,
    "hideHardwareSpecs": false,
    "memoryGiB": 64,
    "name": "ml.g4dn.4xlarge",
    "vcpuNum": 16
   },
   {
    "_defaultOrder": 32,
    "_isFastLaunch": false,
    "category": "Accelerated computing",
    "gpuNum": 1,
    "hideHardwareSpecs": false,
    "memoryGiB": 128,
    "name": "ml.g4dn.8xlarge",
    "vcpuNum": 32
   },
   {
    "_defaultOrder": 33,
    "_isFastLaunch": false,
    "category": "Accelerated computing",
    "gpuNum": 4,
    "hideHardwareSpecs": false,
    "memoryGiB": 192,
    "name": "ml.g4dn.12xlarge",
    "vcpuNum": 48
   },
   {
    "_defaultOrder": 34,
    "_isFastLaunch": false,
    "category": "Accelerated computing",
    "gpuNum": 1,
    "hideHardwareSpecs": false,
    "memoryGiB": 256,
    "name": "ml.g4dn.16xlarge",
    "vcpuNum": 64
   },
   {
    "_defaultOrder": 35,
    "_isFastLaunch": false,
    "category": "Accelerated computing",
    "gpuNum": 1,
    "hideHardwareSpecs": false,
    "memoryGiB": 61,
    "name": "ml.p3.2xlarge",
    "vcpuNum": 8
   },
   {
    "_defaultOrder": 36,
    "_isFastLaunch": false,
    "category": "Accelerated computing",
    "gpuNum": 4,
    "hideHardwareSpecs": false,
    "memoryGiB": 244,
    "name": "ml.p3.8xlarge",
    "vcpuNum": 32
   },
   {
    "_defaultOrder": 37,
    "_isFastLaunch": false,
    "category": "Accelerated computing",
    "gpuNum": 8,
    "hideHardwareSpecs": false,
    "memoryGiB": 488,
    "name": "ml.p3.16xlarge",
    "vcpuNum": 64
   },
   {
    "_defaultOrder": 38,
    "_isFastLaunch": false,
    "category": "Accelerated computing",
    "gpuNum": 8,
    "hideHardwareSpecs": false,
    "memoryGiB": 768,
    "name": "ml.p3dn.24xlarge",
    "vcpuNum": 96
   },
   {
    "_defaultOrder": 39,
    "_isFastLaunch": false,
    "category": "Memory Optimized",
    "gpuNum": 0,
    "hideHardwareSpecs": false,
    "memoryGiB": 16,
    "name": "ml.r5.large",
    "vcpuNum": 2
   },
   {
    "_defaultOrder": 40,
    "_isFastLaunch": false,
    "category": "Memory Optimized",
    "gpuNum": 0,
    "hideHardwareSpecs": false,
    "memoryGiB": 32,
    "name": "ml.r5.xlarge",
    "vcpuNum": 4
   },
   {
    "_defaultOrder": 41,
    "_isFastLaunch": false,
    "category": "Memory Optimized",
    "gpuNum": 0,
    "hideHardwareSpecs": false,
    "memoryGiB": 64,
    "name": "ml.r5.2xlarge",
    "vcpuNum": 8
   },
   {
    "_defaultOrder": 42,
    "_isFastLaunch": false,
    "category": "Memory Optimized",
    "gpuNum": 0,
    "hideHardwareSpecs": false,
    "memoryGiB": 128,
    "name": "ml.r5.4xlarge",
    "vcpuNum": 16
   },
   {
    "_defaultOrder": 43,
    "_isFastLaunch": false,
    "category": "Memory Optimized",
    "gpuNum": 0,
    "hideHardwareSpecs": false,
    "memoryGiB": 256,
    "name": "ml.r5.8xlarge",
    "vcpuNum": 32
   },
   {
    "_defaultOrder": 44,
    "_isFastLaunch": false,
    "category": "Memory Optimized",
    "gpuNum": 0,
    "hideHardwareSpecs": false,
    "memoryGiB": 384,
    "name": "ml.r5.12xlarge",
    "vcpuNum": 48
   },
   {
    "_defaultOrder": 45,
    "_isFastLaunch": false,
    "category": "Memory Optimized",
    "gpuNum": 0,
    "hideHardwareSpecs": false,
    "memoryGiB": 512,
    "name": "ml.r5.16xlarge",
    "vcpuNum": 64
   },
   {
    "_defaultOrder": 46,
    "_isFastLaunch": false,
    "category": "Memory Optimized",
    "gpuNum": 0,
    "hideHardwareSpecs": false,
    "memoryGiB": 768,
    "name": "ml.r5.24xlarge",
    "vcpuNum": 96
   },
   {
    "_defaultOrder": 47,
    "_isFastLaunch": false,
    "category": "Accelerated computing",
    "gpuNum": 1,
    "hideHardwareSpecs": false,
    "memoryGiB": 16,
    "name": "ml.g5.xlarge",
    "vcpuNum": 4
   },
   {
    "_defaultOrder": 48,
    "_isFastLaunch": false,
    "category": "Accelerated computing",
    "gpuNum": 1,
    "hideHardwareSpecs": false,
    "memoryGiB": 32,
    "name": "ml.g5.2xlarge",
    "vcpuNum": 8
   },
   {
    "_defaultOrder": 49,
    "_isFastLaunch": false,
    "category": "Accelerated computing",
    "gpuNum": 1,
    "hideHardwareSpecs": false,
    "memoryGiB": 64,
    "name": "ml.g5.4xlarge",
    "vcpuNum": 16
   },
   {
    "_defaultOrder": 50,
    "_isFastLaunch": false,
    "category": "Accelerated computing",
    "gpuNum": 1,
    "hideHardwareSpecs": false,
    "memoryGiB": 128,
    "name": "ml.g5.8xlarge",
    "vcpuNum": 32
   },
   {
    "_defaultOrder": 51,
    "_isFastLaunch": false,
    "category": "Accelerated computing",
    "gpuNum": 1,
    "hideHardwareSpecs": false,
    "memoryGiB": 256,
    "name": "ml.g5.16xlarge",
    "vcpuNum": 64
   },
   {
    "_defaultOrder": 52,
    "_isFastLaunch": false,
    "category": "Accelerated computing",
    "gpuNum": 4,
    "hideHardwareSpecs": false,
    "memoryGiB": 192,
    "name": "ml.g5.12xlarge",
    "vcpuNum": 48
   },
   {
    "_defaultOrder": 53,
    "_isFastLaunch": false,
    "category": "Accelerated computing",
    "gpuNum": 4,
    "hideHardwareSpecs": false,
    "memoryGiB": 384,
    "name": "ml.g5.24xlarge",
    "vcpuNum": 96
   },
   {
    "_defaultOrder": 54,
    "_isFastLaunch": false,
    "category": "Accelerated computing",
    "gpuNum": 8,
    "hideHardwareSpecs": false,
    "memoryGiB": 768,
    "name": "ml.g5.48xlarge",
    "vcpuNum": 192
   },
   {
    "_defaultOrder": 55,
    "_isFastLaunch": false,
    "category": "Accelerated computing",
    "gpuNum": 8,
    "hideHardwareSpecs": false,
    "memoryGiB": 1152,
    "name": "ml.p4d.24xlarge",
    "vcpuNum": 96
   },
   {
    "_defaultOrder": 56,
    "_isFastLaunch": false,
    "category": "Accelerated computing",
    "gpuNum": 8,
    "hideHardwareSpecs": false,
    "memoryGiB": 1152,
    "name": "ml.p4de.24xlarge",
    "vcpuNum": 96
   }
  ],
  "instance_type": "ml.t3.medium",
  "kernelspec": {
   "display_name": "Python 3 (Data Science 3.0)",
   "language": "python",
   "name": "python3__SAGEMAKER_INTERNAL__arn:aws:sagemaker:us-east-1:081325390199:image/sagemaker-data-science-310-v1"
  },
  "language_info": {
   "codemirror_mode": {
    "name": "ipython",
    "version": 3
   },
   "file_extension": ".py",
   "mimetype": "text/x-python",
   "name": "python",
   "nbconvert_exporter": "python",
   "pygments_lexer": "ipython3",
   "version": "3.10.6"
  }
 },
 "nbformat": 4,
 "nbformat_minor": 5
}
