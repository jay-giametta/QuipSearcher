{
 "cells": [
  {
   "cell_type": "code",
   "execution_count": null,
   "id": "0c8e0228-6b17-4dd3-b564-74ca847064ea",
   "metadata": {
    "tags": []
   },
   "outputs": [],
   "source": [
    "#install necessary packages\n",
    "!pip install --upgrade pip\n",
    "!pip install psycopg2 \n",
    "!pip install pgvector "
   ]
  },
  {
   "cell_type": "code",
   "execution_count": null,
   "id": "49627fcb-81cc-450d-8e5f-126f44f6c48d",
   "metadata": {},
   "outputs": [],
   "source": [
    "#import libraries\n",
    "import boto3\n",
    "import quip\n",
    "import json\n",
    "import time\n",
    "import psycopg2\n",
    "from pgvector.psycopg2 import register_vector\n",
    "from bs4 import BeautifulSoup\n",
    "from textwrap import wrap"
   ]
  },
  {
   "cell_type": "code",
   "execution_count": null,
   "id": "a6fc1031-55c2-4ada-85e8-cc763a665f4c",
   "metadata": {
    "tags": []
   },
   "outputs": [],
   "source": [
    "#setup function to recurse through Quip child objects to find all sub-folders and threads\n",
    "\n",
    "maxRetries = 5\n",
    "\n",
    "def getChildren(quipClient, folderId):\n",
    "    \n",
    "    retryDelay = 2\n",
    "    \n",
    "    folders = []\n",
    "    threads = []\n",
    "\n",
    "    root = {}\n",
    "    \n",
    "    #needed to handle API rate limiting\n",
    "    for retry in range(maxRetries):\n",
    "        try:\n",
    "            root = quipClient.get_folder(folderId)\n",
    "        except Exception as e:\n",
    "            if retry < maxRetries - 1 and \"429\" in e.args[0]:\n",
    "                print(f\"Error {e.args[0]}. Waiting {pow(retryDelay, retry)} second(s) for retry.\")\n",
    "                time.sleep(retryDelay)\n",
    "                continue\n",
    "            else:\n",
    "                raise\n",
    "        break\n",
    "        \n",
    "    for child in root.get('children'):\n",
    "        if child.get('folder_id') and child.get('folder_id') not in folders:\n",
    "            folders.append(child.get('folder_id'))\n",
    "            children = getChildren(quipClient, child.get('folder_id'))\n",
    "            folders += children[0]\n",
    "            threads += children[1]\n",
    "        elif child.get('thread_id') and child.get('thread_id') not in threads:\n",
    "            threads.append(child.get('thread_id'))\n",
    "        \n",
    "    return folders, threads"
   ]
  },
  {
   "cell_type": "code",
   "execution_count": null,
   "id": "58b10297-d09d-4262-b7cb-a041bd3ed43a",
   "metadata": {
    "tags": []
   },
   "outputs": [],
   "source": [
    "#setup AWS services\n",
    "secretsManager = boto3.client(\n",
    "    service_name = 'secretsmanager',\n",
    "    region_name = 'us-east-1'\n",
    ")\n",
    "\n",
    "bedrock_runtime = boto3.client(\n",
    "    service_name = 'bedrock-runtime', \n",
    "    region_name = 'us-east-1'\n",
    ")"
   ]
  },
  {
   "cell_type": "code",
   "execution_count": null,
   "id": "a130a56c-68ea-4709-962d-260280475beb",
   "metadata": {},
   "outputs": [],
   "source": [
    "#get Quip token\n",
    "secretId = 'quip'\n",
    "secretsManagerResponse = secretsManager.get_secret_value(SecretId = secretId)['SecretString']\n",
    "secretsManagerSecret = json.loads(secretsManagerResponse)"
   ]
  },
  {
   "cell_type": "code",
   "execution_count": null,
   "id": "3891c135-4750-4951-80a3-d79b70807c72",
   "metadata": {
    "tags": []
   },
   "outputs": [],
   "source": [
    "#setup Quip python client\n",
    "quipClient = quip.QuipClient(\n",
    "    access_token = secretsManagerSecret.get('token'),\n",
    "    base_url = secretsManagerSecret.get('url'),\n",
    "    request_timeout = 100)\n",
    "\n",
    "rootFolderId = 'b3OrOvuPRH8E' \n",
    "rootFolder = quipClient.get_folder(rootFolderId)"
   ]
  },
  {
   "cell_type": "code",
   "execution_count": null,
   "id": "118a1241-8977-4ac5-b9a3-2cf63007b2c8",
   "metadata": {
    "tags": []
   },
   "outputs": [],
   "source": [
    "#recurse through the root folders child objects to find all sub-folders and threads\n",
    "folders, threads = getChildren(quipClient, rootFolderId)"
   ]
  },
  {
   "cell_type": "code",
   "execution_count": null,
   "id": "a60eae39-d446-4ba3-a2e6-bdd909b9a17e",
   "metadata": {
    "tags": []
   },
   "outputs": [],
   "source": [
    "#get database info from Secrets Manager\n",
    "dbSecretId = 'quipsearcher'\n",
    "dbSecretsManagerResponse = secretsManager.get_secret_value(SecretId = dbSecretId)['SecretString']\n",
    "dbSecretsManagerSecret = json.loads(dbSecretsManagerResponse)"
   ]
  },
  {
   "cell_type": "code",
   "execution_count": null,
   "id": "dd168723-1a60-4c37-ba73-4f2865698c0c",
   "metadata": {
    "tags": []
   },
   "outputs": [],
   "source": [
    "#connect to database\n",
    "dbClient = psycopg2.connect(\n",
    "    host = dbSecretsManagerSecret.get('host'),\n",
    "    port = dbSecretsManagerSecret.get('port'),\n",
    "    database = dbSecretsManagerSecret.get('database'),\n",
    "    user = dbSecretsManagerSecret.get('username'),\n",
    "    password = dbSecretsManagerSecret.get('password')\n",
    ")\n",
    "\n",
    "dbClient.set_session(autocommit = True)\n",
    "dbCursor = dbClient.cursor()"
   ]
  },
  {
   "cell_type": "code",
   "execution_count": null,
   "id": "e17179e8-708b-4129-83f6-a487d2cf9de6",
   "metadata": {
    "tags": []
   },
   "outputs": [],
   "source": [
    "#setup database vector support\n",
    "dbCursor.execute(\"CREATE EXTENSION IF NOT EXISTS vector;\")\n",
    "register_vector(dbClient)"
   ]
  },
  {
   "cell_type": "code",
   "execution_count": null,
   "id": "eac26e8a-3223-4d20-8e14-84f4283abb19",
   "metadata": {
    "tags": []
   },
   "outputs": [],
   "source": [
    "#create table and index\n",
    "dbCursor.execute(f\"DROP TABLE IF EXISTS t_{rootFolderId};\")\n",
    "\n",
    "dbCursor.execute(f\"\"\"CREATE TABLE IF NOT EXISTS t_{rootFolderId}(\n",
    "    thread text,\n",
    "    section int,\n",
    "    length int,\n",
    "    title text,\n",
    "    link text,\n",
    "    text text,\n",
    "    embeddings vector(1536),\n",
    "    PRIMARY KEY(thread, section)\n",
    ");\"\"\")\n",
    "\n",
    "dbCursor.execute(f\"\"\"CREATE INDEX ON t_{rootFolderId}\n",
    "    USING GIN (to_tsvector('simple', text))\n",
    ";\"\"\")"
   ]
  },
  {
   "cell_type": "code",
   "execution_count": null,
   "id": "7aa065ad-2062-4d43-b52c-9346ad7d66be",
   "metadata": {
    "tags": []
   },
   "outputs": [],
   "source": [
    "#store embeddings and identifying thread info in table\n",
    "maxSectionLen = 1000\n",
    "\n",
    "for threadId in threads:\n",
    "    \n",
    "    thread = {}\n",
    "    \n",
    "    #needed to handle API rate limiting\n",
    "    for retry in range(maxRetries):\n",
    "    try:\n",
    "        thread = quipClient.get_thread(threadId)\n",
    "    except Exception as e:\n",
    "        if retry < maxRetries - 1 and \"429\" in e.args[0]:\n",
    "            print(f\"Error {e.args[0]}. Waiting {pow(retryDelay, retry)} second(s) for retry.\")\n",
    "            time.sleep(retryDelay)\n",
    "            continue\n",
    "        else:\n",
    "            raise\n",
    "    break\n",
    "    \n",
    "    sections = wrap(BeautifulSoup(thread.get('html'), 'html.parser').text, maxSectionLen)\n",
    "    \n",
    "    sectionId = 0\n",
    "    \n",
    "    for section in sections:\n",
    "        \n",
    "        sectionJson = json.dumps({\n",
    "            \"inputText\": f\"{rootFolder.get('folder').get('title')} - {thread.get('thread').get('title')}\\n{section}\",\n",
    "        })\n",
    "\n",
    "        sectionEmbeddingResponse = bedrock_runtime.invoke_model(\n",
    "            body = sectionJson, \n",
    "            modelId = 'amazon.titan-embed-text-v1', \n",
    "            accept = 'application/json', \n",
    "            contentType = 'application/json'\n",
    "        )\n",
    "        sectionEmbeddingResponseBody = json.loads(sectionEmbeddingResponse['body'].read())\n",
    "        sectionEmbedding = sectionEmbeddingResponseBody.get('embedding')\n",
    "        \n",
    "        titleEscaped = thread.get('thread').get('title').replace(\"'\", \"\")\n",
    "        sectionEscaped = section.replace(\"'\", \"\")\n",
    "        \n",
    "        dbCursor.execute(f\"\"\"INSERT INTO t_{rootFolderId} (thread, section, length, title, link, text, embeddings)\n",
    "            VALUES ('{threadId}',{sectionId},{len(section)},'{titleEscaped}','{thread.get('thread').get('link')}','{sectionEscaped}','{sectionEmbedding}');\"\"\")\n",
    "        \n",
    "        sectionId += 1"
   ]
  },
  {
   "cell_type": "code",
   "execution_count": null,
   "id": "cd234495-2c4c-42a7-8d85-fe28c28556c7",
   "metadata": {
    "tags": []
   },
   "outputs": [],
   "source": [
    "#close the database connection\n",
    "dbCursor.close()\n",
    "dbClient.close()"
   ]
  },
  {
   "cell_type": "code",
   "execution_count": null,
   "id": "cc2954b9-3103-486a-b67a-c7f23192b86e",
   "metadata": {},
   "outputs": [],
   "source": [
    "threads"
   ]
  },
  {
   "cell_type": "code",
   "execution_count": null,
   "id": "ea4bfa67-e9cc-49ab-98d4-fa170968b974",
   "metadata": {},
   "outputs": [],
   "source": []
  }
 ],
 "metadata": {
  "availableInstances": [
   {
    "_defaultOrder": 0,
    "_isFastLaunch": true,
    "category": "General purpose",
    "gpuNum": 0,
    "hideHardwareSpecs": false,
    "memoryGiB": 4,
    "name": "ml.t3.medium",
    "vcpuNum": 2
   },
   {
    "_defaultOrder": 1,
    "_isFastLaunch": false,
    "category": "General purpose",
    "gpuNum": 0,
    "hideHardwareSpecs": false,
    "memoryGiB": 8,
    "name": "ml.t3.large",
    "vcpuNum": 2
   },
   {
    "_defaultOrder": 2,
    "_isFastLaunch": false,
    "category": "General purpose",
    "gpuNum": 0,
    "hideHardwareSpecs": false,
    "memoryGiB": 16,
    "name": "ml.t3.xlarge",
    "vcpuNum": 4
   },
   {
    "_defaultOrder": 3,
    "_isFastLaunch": false,
    "category": "General purpose",
    "gpuNum": 0,
    "hideHardwareSpecs": false,
    "memoryGiB": 32,
    "name": "ml.t3.2xlarge",
    "vcpuNum": 8
   },
   {
    "_defaultOrder": 4,
    "_isFastLaunch": true,
    "category": "General purpose",
    "gpuNum": 0,
    "hideHardwareSpecs": false,
    "memoryGiB": 8,
    "name": "ml.m5.large",
    "vcpuNum": 2
   },
   {
    "_defaultOrder": 5,
    "_isFastLaunch": false,
    "category": "General purpose",
    "gpuNum": 0,
    "hideHardwareSpecs": false,
    "memoryGiB": 16,
    "name": "ml.m5.xlarge",
    "vcpuNum": 4
   },
   {
    "_defaultOrder": 6,
    "_isFastLaunch": false,
    "category": "General purpose",
    "gpuNum": 0,
    "hideHardwareSpecs": false,
    "memoryGiB": 32,
    "name": "ml.m5.2xlarge",
    "vcpuNum": 8
   },
   {
    "_defaultOrder": 7,
    "_isFastLaunch": false,
    "category": "General purpose",
    "gpuNum": 0,
    "hideHardwareSpecs": false,
    "memoryGiB": 64,
    "name": "ml.m5.4xlarge",
    "vcpuNum": 16
   },
   {
    "_defaultOrder": 8,
    "_isFastLaunch": false,
    "category": "General purpose",
    "gpuNum": 0,
    "hideHardwareSpecs": false,
    "memoryGiB": 128,
    "name": "ml.m5.8xlarge",
    "vcpuNum": 32
   },
   {
    "_defaultOrder": 9,
    "_isFastLaunch": false,
    "category": "General purpose",
    "gpuNum": 0,
    "hideHardwareSpecs": false,
    "memoryGiB": 192,
    "name": "ml.m5.12xlarge",
    "vcpuNum": 48
   },
   {
    "_defaultOrder": 10,
    "_isFastLaunch": false,
    "category": "General purpose",
    "gpuNum": 0,
    "hideHardwareSpecs": false,
    "memoryGiB": 256,
    "name": "ml.m5.16xlarge",
    "vcpuNum": 64
   },
   {
    "_defaultOrder": 11,
    "_isFastLaunch": false,
    "category": "General purpose",
    "gpuNum": 0,
    "hideHardwareSpecs": false,
    "memoryGiB": 384,
    "name": "ml.m5.24xlarge",
    "vcpuNum": 96
   },
   {
    "_defaultOrder": 12,
    "_isFastLaunch": false,
    "category": "General purpose",
    "gpuNum": 0,
    "hideHardwareSpecs": false,
    "memoryGiB": 8,
    "name": "ml.m5d.large",
    "vcpuNum": 2
   },
   {
    "_defaultOrder": 13,
    "_isFastLaunch": false,
    "category": "General purpose",
    "gpuNum": 0,
    "hideHardwareSpecs": false,
    "memoryGiB": 16,
    "name": "ml.m5d.xlarge",
    "vcpuNum": 4
   },
   {
    "_defaultOrder": 14,
    "_isFastLaunch": false,
    "category": "General purpose",
    "gpuNum": 0,
    "hideHardwareSpecs": false,
    "memoryGiB": 32,
    "name": "ml.m5d.2xlarge",
    "vcpuNum": 8
   },
   {
    "_defaultOrder": 15,
    "_isFastLaunch": false,
    "category": "General purpose",
    "gpuNum": 0,
    "hideHardwareSpecs": false,
    "memoryGiB": 64,
    "name": "ml.m5d.4xlarge",
    "vcpuNum": 16
   },
   {
    "_defaultOrder": 16,
    "_isFastLaunch": false,
    "category": "General purpose",
    "gpuNum": 0,
    "hideHardwareSpecs": false,
    "memoryGiB": 128,
    "name": "ml.m5d.8xlarge",
    "vcpuNum": 32
   },
   {
    "_defaultOrder": 17,
    "_isFastLaunch": false,
    "category": "General purpose",
    "gpuNum": 0,
    "hideHardwareSpecs": false,
    "memoryGiB": 192,
    "name": "ml.m5d.12xlarge",
    "vcpuNum": 48
   },
   {
    "_defaultOrder": 18,
    "_isFastLaunch": false,
    "category": "General purpose",
    "gpuNum": 0,
    "hideHardwareSpecs": false,
    "memoryGiB": 256,
    "name": "ml.m5d.16xlarge",
    "vcpuNum": 64
   },
   {
    "_defaultOrder": 19,
    "_isFastLaunch": false,
    "category": "General purpose",
    "gpuNum": 0,
    "hideHardwareSpecs": false,
    "memoryGiB": 384,
    "name": "ml.m5d.24xlarge",
    "vcpuNum": 96
   },
   {
    "_defaultOrder": 20,
    "_isFastLaunch": false,
    "category": "General purpose",
    "gpuNum": 0,
    "hideHardwareSpecs": true,
    "memoryGiB": 0,
    "name": "ml.geospatial.interactive",
    "supportedImageNames": [
     "sagemaker-geospatial-v1-0"
    ],
    "vcpuNum": 0
   },
   {
    "_defaultOrder": 21,
    "_isFastLaunch": true,
    "category": "Compute optimized",
    "gpuNum": 0,
    "hideHardwareSpecs": false,
    "memoryGiB": 4,
    "name": "ml.c5.large",
    "vcpuNum": 2
   },
   {
    "_defaultOrder": 22,
    "_isFastLaunch": false,
    "category": "Compute optimized",
    "gpuNum": 0,
    "hideHardwareSpecs": false,
    "memoryGiB": 8,
    "name": "ml.c5.xlarge",
    "vcpuNum": 4
   },
   {
    "_defaultOrder": 23,
    "_isFastLaunch": false,
    "category": "Compute optimized",
    "gpuNum": 0,
    "hideHardwareSpecs": false,
    "memoryGiB": 16,
    "name": "ml.c5.2xlarge",
    "vcpuNum": 8
   },
   {
    "_defaultOrder": 24,
    "_isFastLaunch": false,
    "category": "Compute optimized",
    "gpuNum": 0,
    "hideHardwareSpecs": false,
    "memoryGiB": 32,
    "name": "ml.c5.4xlarge",
    "vcpuNum": 16
   },
   {
    "_defaultOrder": 25,
    "_isFastLaunch": false,
    "category": "Compute optimized",
    "gpuNum": 0,
    "hideHardwareSpecs": false,
    "memoryGiB": 72,
    "name": "ml.c5.9xlarge",
    "vcpuNum": 36
   },
   {
    "_defaultOrder": 26,
    "_isFastLaunch": false,
    "category": "Compute optimized",
    "gpuNum": 0,
    "hideHardwareSpecs": false,
    "memoryGiB": 96,
    "name": "ml.c5.12xlarge",
    "vcpuNum": 48
   },
   {
    "_defaultOrder": 27,
    "_isFastLaunch": false,
    "category": "Compute optimized",
    "gpuNum": 0,
    "hideHardwareSpecs": false,
    "memoryGiB": 144,
    "name": "ml.c5.18xlarge",
    "vcpuNum": 72
   },
   {
    "_defaultOrder": 28,
    "_isFastLaunch": false,
    "category": "Compute optimized",
    "gpuNum": 0,
    "hideHardwareSpecs": false,
    "memoryGiB": 192,
    "name": "ml.c5.24xlarge",
    "vcpuNum": 96
   },
   {
    "_defaultOrder": 29,
    "_isFastLaunch": true,
    "category": "Accelerated computing",
    "gpuNum": 1,
    "hideHardwareSpecs": false,
    "memoryGiB": 16,
    "name": "ml.g4dn.xlarge",
    "vcpuNum": 4
   },
   {
    "_defaultOrder": 30,
    "_isFastLaunch": false,
    "category": "Accelerated computing",
    "gpuNum": 1,
    "hideHardwareSpecs": false,
    "memoryGiB": 32,
    "name": "ml.g4dn.2xlarge",
    "vcpuNum": 8
   },
   {
    "_defaultOrder": 31,
    "_isFastLaunch": false,
    "category": "Accelerated computing",
    "gpuNum": 1,
    "hideHardwareSpecs": false,
    "memoryGiB": 64,
    "name": "ml.g4dn.4xlarge",
    "vcpuNum": 16
   },
   {
    "_defaultOrder": 32,
    "_isFastLaunch": false,
    "category": "Accelerated computing",
    "gpuNum": 1,
    "hideHardwareSpecs": false,
    "memoryGiB": 128,
    "name": "ml.g4dn.8xlarge",
    "vcpuNum": 32
   },
   {
    "_defaultOrder": 33,
    "_isFastLaunch": false,
    "category": "Accelerated computing",
    "gpuNum": 4,
    "hideHardwareSpecs": false,
    "memoryGiB": 192,
    "name": "ml.g4dn.12xlarge",
    "vcpuNum": 48
   },
   {
    "_defaultOrder": 34,
    "_isFastLaunch": false,
    "category": "Accelerated computing",
    "gpuNum": 1,
    "hideHardwareSpecs": false,
    "memoryGiB": 256,
    "name": "ml.g4dn.16xlarge",
    "vcpuNum": 64
   },
   {
    "_defaultOrder": 35,
    "_isFastLaunch": false,
    "category": "Accelerated computing",
    "gpuNum": 1,
    "hideHardwareSpecs": false,
    "memoryGiB": 61,
    "name": "ml.p3.2xlarge",
    "vcpuNum": 8
   },
   {
    "_defaultOrder": 36,
    "_isFastLaunch": false,
    "category": "Accelerated computing",
    "gpuNum": 4,
    "hideHardwareSpecs": false,
    "memoryGiB": 244,
    "name": "ml.p3.8xlarge",
    "vcpuNum": 32
   },
   {
    "_defaultOrder": 37,
    "_isFastLaunch": false,
    "category": "Accelerated computing",
    "gpuNum": 8,
    "hideHardwareSpecs": false,
    "memoryGiB": 488,
    "name": "ml.p3.16xlarge",
    "vcpuNum": 64
   },
   {
    "_defaultOrder": 38,
    "_isFastLaunch": false,
    "category": "Accelerated computing",
    "gpuNum": 8,
    "hideHardwareSpecs": false,
    "memoryGiB": 768,
    "name": "ml.p3dn.24xlarge",
    "vcpuNum": 96
   },
   {
    "_defaultOrder": 39,
    "_isFastLaunch": false,
    "category": "Memory Optimized",
    "gpuNum": 0,
    "hideHardwareSpecs": false,
    "memoryGiB": 16,
    "name": "ml.r5.large",
    "vcpuNum": 2
   },
   {
    "_defaultOrder": 40,
    "_isFastLaunch": false,
    "category": "Memory Optimized",
    "gpuNum": 0,
    "hideHardwareSpecs": false,
    "memoryGiB": 32,
    "name": "ml.r5.xlarge",
    "vcpuNum": 4
   },
   {
    "_defaultOrder": 41,
    "_isFastLaunch": false,
    "category": "Memory Optimized",
    "gpuNum": 0,
    "hideHardwareSpecs": false,
    "memoryGiB": 64,
    "name": "ml.r5.2xlarge",
    "vcpuNum": 8
   },
   {
    "_defaultOrder": 42,
    "_isFastLaunch": false,
    "category": "Memory Optimized",
    "gpuNum": 0,
    "hideHardwareSpecs": false,
    "memoryGiB": 128,
    "name": "ml.r5.4xlarge",
    "vcpuNum": 16
   },
   {
    "_defaultOrder": 43,
    "_isFastLaunch": false,
    "category": "Memory Optimized",
    "gpuNum": 0,
    "hideHardwareSpecs": false,
    "memoryGiB": 256,
    "name": "ml.r5.8xlarge",
    "vcpuNum": 32
   },
   {
    "_defaultOrder": 44,
    "_isFastLaunch": false,
    "category": "Memory Optimized",
    "gpuNum": 0,
    "hideHardwareSpecs": false,
    "memoryGiB": 384,
    "name": "ml.r5.12xlarge",
    "vcpuNum": 48
   },
   {
    "_defaultOrder": 45,
    "_isFastLaunch": false,
    "category": "Memory Optimized",
    "gpuNum": 0,
    "hideHardwareSpecs": false,
    "memoryGiB": 512,
    "name": "ml.r5.16xlarge",
    "vcpuNum": 64
   },
   {
    "_defaultOrder": 46,
    "_isFastLaunch": false,
    "category": "Memory Optimized",
    "gpuNum": 0,
    "hideHardwareSpecs": false,
    "memoryGiB": 768,
    "name": "ml.r5.24xlarge",
    "vcpuNum": 96
   },
   {
    "_defaultOrder": 47,
    "_isFastLaunch": false,
    "category": "Accelerated computing",
    "gpuNum": 1,
    "hideHardwareSpecs": false,
    "memoryGiB": 16,
    "name": "ml.g5.xlarge",
    "vcpuNum": 4
   },
   {
    "_defaultOrder": 48,
    "_isFastLaunch": false,
    "category": "Accelerated computing",
    "gpuNum": 1,
    "hideHardwareSpecs": false,
    "memoryGiB": 32,
    "name": "ml.g5.2xlarge",
    "vcpuNum": 8
   },
   {
    "_defaultOrder": 49,
    "_isFastLaunch": false,
    "category": "Accelerated computing",
    "gpuNum": 1,
    "hideHardwareSpecs": false,
    "memoryGiB": 64,
    "name": "ml.g5.4xlarge",
    "vcpuNum": 16
   },
   {
    "_defaultOrder": 50,
    "_isFastLaunch": false,
    "category": "Accelerated computing",
    "gpuNum": 1,
    "hideHardwareSpecs": false,
    "memoryGiB": 128,
    "name": "ml.g5.8xlarge",
    "vcpuNum": 32
   },
   {
    "_defaultOrder": 51,
    "_isFastLaunch": false,
    "category": "Accelerated computing",
    "gpuNum": 1,
    "hideHardwareSpecs": false,
    "memoryGiB": 256,
    "name": "ml.g5.16xlarge",
    "vcpuNum": 64
   },
   {
    "_defaultOrder": 52,
    "_isFastLaunch": false,
    "category": "Accelerated computing",
    "gpuNum": 4,
    "hideHardwareSpecs": false,
    "memoryGiB": 192,
    "name": "ml.g5.12xlarge",
    "vcpuNum": 48
   },
   {
    "_defaultOrder": 53,
    "_isFastLaunch": false,
    "category": "Accelerated computing",
    "gpuNum": 4,
    "hideHardwareSpecs": false,
    "memoryGiB": 384,
    "name": "ml.g5.24xlarge",
    "vcpuNum": 96
   },
   {
    "_defaultOrder": 54,
    "_isFastLaunch": false,
    "category": "Accelerated computing",
    "gpuNum": 8,
    "hideHardwareSpecs": false,
    "memoryGiB": 768,
    "name": "ml.g5.48xlarge",
    "vcpuNum": 192
   },
   {
    "_defaultOrder": 55,
    "_isFastLaunch": false,
    "category": "Accelerated computing",
    "gpuNum": 8,
    "hideHardwareSpecs": false,
    "memoryGiB": 1152,
    "name": "ml.p4d.24xlarge",
    "vcpuNum": 96
   },
   {
    "_defaultOrder": 56,
    "_isFastLaunch": false,
    "category": "Accelerated computing",
    "gpuNum": 8,
    "hideHardwareSpecs": false,
    "memoryGiB": 1152,
    "name": "ml.p4de.24xlarge",
    "vcpuNum": 96
   }
  ],
  "instance_type": "ml.t3.medium",
  "kernelspec": {
   "display_name": "Python 3 (Data Science 3.0)",
   "language": "python",
   "name": "python3__SAGEMAKER_INTERNAL__arn:aws:sagemaker:us-east-1:081325390199:image/sagemaker-data-science-310-v1"
  },
  "language_info": {
   "codemirror_mode": {
    "name": "ipython",
    "version": 3
   },
   "file_extension": ".py",
   "mimetype": "text/x-python",
   "name": "python",
   "nbconvert_exporter": "python",
   "pygments_lexer": "ipython3",
   "version": "3.10.6"
  }
 },
 "nbformat": 4,
 "nbformat_minor": 5
}
